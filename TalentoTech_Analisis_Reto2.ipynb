{
  "nbformat": 4,
  "nbformat_minor": 0,
  "metadata": {
    "colab": {
      "provenance": [],
      "include_colab_link": true
    },
    "kernelspec": {
      "name": "python3",
      "display_name": "Python 3"
    },
    "language_info": {
      "name": "python"
    }
  },
  "cells": [
    {
      "cell_type": "markdown",
      "metadata": {
        "id": "view-in-github",
        "colab_type": "text"
      },
      "source": [
        "<a href=\"https://colab.research.google.com/github/jaramillado/talento_tech/blob/main/TalentoTech_Analisis_Reto2.ipynb\" target=\"_parent\"><img src=\"https://colab.research.google.com/assets/colab-badge.svg\" alt=\"Open In Colab\"/></a>"
      ]
    },
    {
      "cell_type": "markdown",
      "source": [
        "<img alt=\"CC\" height=\"50px\" src=\"https://creativecommons.org/images/deed/cc_blue_x2.png\" align=\"left\" hspace=\"0px\" vspace=\"0px\">\n",
        "<img alt=\"Attribution\" height=\"50px\" src=\"https://creativecommons.org/images/deed/attribution_icon_blue_x2.png\" align=\"left\" hspace=\"0px\" vspace=\"0px\">\n",
        "<img alt=\"NC\" height=\"50px\" src=\"https://creativecommons.org/images/deed/nc_blue_x2.png\" align=\"left\" hspace=\"0px\" vspace=\"0px\">\n",
        "<img alt=\"SA\" height=\"50px\" src=\"https://creativecommons.org/images/deed/sa_blue_x2.png\" align=\"left\" hspace=\"0px\" vspace=\"0px\">\n",
        "</p>\n",
        "<br><br>\n",
        "<div align=\"right\">\n",
        "<h1> <b> Análisis de Datos - Explorador  </h1>\n",
        "<h2> RETO 2. PUBLICACIÓN Y CONSUMO DE DATOS DESDE GITHUB</b> </h2>\n",
        "<h3> <b> Por: Ing. Julián Darío Giraldo Ocampo M.Sc.</b> </h3>\n",
        "<hr>\n",
        "<a href=\"mailto:julian.giraldoo@udea.edu.co\"> ✉ Julian Darío Giraldo Ocampo [ julian.giraldoo@udea.edu.co ]</a>\n",
        "</div>\n",
        "\n",
        "<br>\n",
        "\n",
        "*Material de Apoyo para el Bootcamp de Talento Tech - Region 2*\n",
        "\n",
        "---"
      ],
      "metadata": {
        "id": "wGe6EJtd-mVh"
      }
    },
    {
      "cell_type": "markdown",
      "source": [
        "<font size=\"6\"><strong><center>RETO 2. PUBLICACIÓN Y CONSUMO DE DATOS DESDE GITHUB </center></strong></font>\n",
        "\n",
        "\n",
        "<font size=\"5\"><strong>Contexto:</strong>\n",
        "\n",
        "<font size = \"5\">En proyectos de análisis de datos, la accesibilidad y seguridad de los datos son elementos críticos. Mantener archivos en local puede ser problemático, ya que están expuestos a manipulaciones accidentales o intencionadas, dificultando la reproducibilidad y la colaboración. Para mitigar estos riesgos, la publicación de datos en la nube, como en repositorios de GitHub, permite a los analistas consumir datos directamente desde una fuente confiable y controlada.\n",
        "\n",
        "<font size = \"5\"> En este reto, trabajaremos con un archivo alojado en GitHub para extraer datos directamente desde su enlace RAW (crudo). Entenderemos qué es este enlace, por qué es esencial, y cómo integrarlo en scripts para automatizar procesos sin necesidad de manipular manualmente los datos.\n",
        "\n",
        "___\n",
        "<font size=\"5\"> <strong>Objetivo del Problema:</strong>\n",
        "\n",
        "<font size = \"5\">Publicar datos en un repositorio de GitHub y consumirlos directamente desde un enlace RAW en un script de Python para realizar análisis iniciales.\n",
        "\n",
        "<ol><font size = \"5\">\n",
        "<li><font size = \"5\">Suscripción y configuración de un repositorio en GitHub:\n",
        "  <ul><font size = \"4\">\n",
        "  <li><font size = \"4\">Crear una cuenta en GitHub (si no se tiene).\n",
        "  <li><font size = \"4\">Configurar un repositorio para alojar los datos.\n",
        "  <li><font size = \"4\">Subir el archivo <strong>top_20_paises.csv</strong> al repositorio. <a href=\"https://github.com/juliandariogiraldoocampo/analisis_taltech/raw/refs/heads/main/explorador/top_20_paises.csv\"> Se puede descargar de este enlace </a>\n",
        "  </ul>\n",
        "<li><font size = \"5\">Acceso al enlace RAW:\n",
        "  <ul><font size = \"4\">Comprender qué es el enlace RAW: Es un enlace que permite acceder a los datos de forma directa, sin el formato de presentación habitual de GitHub.\n",
        "  <li><font size = \"4\">Utilizar el enlace RAW para consumir los datos en un script de Python.\n",
        "  </ul>\n",
        "<li><font size = \"5\">Análisis básico del archivo:\n",
        "  <ul><font size = \"4\">\n",
        "  <li><font size = \"4\">Leer los datos desde el enlace usando <code>pandas</code>.\n",
        "  <li><font size = \"4\">Realizar exploraciones básicas como\n",
        "  <ul>\n",
        "  <li><font size = \"4\">Visualizar las primeras filas <code>df.head()</code>.\n",
        "  <li><font size = \"4\">Visualizar un mayor número de filas <code>df.head(10)</code>.\n",
        "  <li><font size = \"4\">Visualizar las últimas filas del archivo <code>df.tail(5)</code>.\n",
        "  </ul>\n",
        "\n",
        "---\n",
        "<font size = \"5\"><center> ⚠️ Nota: Los datos utilizados en este reto son el resultado de procesar datos <a href=\"\">almacenados en Kaggle.</a> ⚠️ </center>"
      ],
      "metadata": {
        "id": "LBbG_uq-QUH-"
      }
    },
    {
      "cell_type": "code",
      "source": [
        "import pandas as pd"
      ],
      "metadata": {
        "id": "hONgDZSROGvs"
      },
      "execution_count": null,
      "outputs": []
    },
    {
      "cell_type": "code",
      "source": [
        "ruta = 'https://github.com/juliandariogiraldoocampo/analisis_taltech/raw/refs/heads/main/explorador/top_20_paises.csv'\n",
        "df = pd.read_csv(ruta)\n",
        "df"
      ],
      "metadata": {
        "id": "6I4yM8nJ2HYX"
      },
      "execution_count": null,
      "outputs": []
    },
    {
      "cell_type": "code",
      "source": [
        "df.head()"
      ],
      "metadata": {
        "id": "sa6onvMM5tbx"
      },
      "execution_count": null,
      "outputs": []
    },
    {
      "cell_type": "code",
      "source": [
        "df.head(10)"
      ],
      "metadata": {
        "id": "6kVf2-Sa-gRL"
      },
      "execution_count": null,
      "outputs": []
    },
    {
      "cell_type": "code",
      "source": [
        "df.tail(5)"
      ],
      "metadata": {
        "id": "ZgLF2lkw-pcg"
      },
      "execution_count": null,
      "outputs": []
    }
  ]
}