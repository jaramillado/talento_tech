{
  "nbformat": 4,
  "nbformat_minor": 0,
  "metadata": {
    "colab": {
      "provenance": [],
      "include_colab_link": true
    },
    "kernelspec": {
      "name": "python3",
      "display_name": "Python 3"
    },
    "language_info": {
      "name": "python"
    }
  },
  "cells": [
    {
      "cell_type": "markdown",
      "metadata": {
        "id": "view-in-github",
        "colab_type": "text"
      },
      "source": [
        "<a href=\"https://colab.research.google.com/github/jaramillado/talento_tech/blob/main/TalentoTech_Analisis_Reto1.ipynb\" target=\"_parent\"><img src=\"https://colab.research.google.com/assets/colab-badge.svg\" alt=\"Open In Colab\"/></a>"
      ]
    },
    {
      "cell_type": "markdown",
      "source": [
        "<img alt=\"CC\" height=\"50px\" src=\"https://creativecommons.org/images/deed/cc_blue_x2.png\" align=\"left\" hspace=\"0px\" vspace=\"0px\">\n",
        "<img alt=\"Attribution\" height=\"50px\" src=\"https://creativecommons.org/images/deed/attribution_icon_blue_x2.png\" align=\"left\" hspace=\"0px\" vspace=\"0px\">\n",
        "<img alt=\"NC\" height=\"50px\" src=\"https://creativecommons.org/images/deed/nc_blue_x2.png\" align=\"left\" hspace=\"0px\" vspace=\"0px\">\n",
        "<img alt=\"SA\" height=\"50px\" src=\"https://creativecommons.org/images/deed/sa_blue_x2.png\" align=\"left\" hspace=\"0px\" vspace=\"0px\">\n",
        "</p>\n",
        "<br><br>\n",
        "<div align=\"right\">\n",
        "<h1> <b> Análisis de Datos - Explorador  </h1>\n",
        "<h2> RETO 1. ESTRUCTURANDO Y CONSERVANDO DATOS 🐼</b> </h2>\n",
        "<h3> <b> Por: Ing. Julián Darío Giraldo Ocampo M.Sc.</b> </h3>\n",
        "<hr>\n",
        "<a href=\"mailto:julian.giraldoo@udea.edu.co\"> ✉ Julian Darío Giraldo Ocampo [ julian.giraldoo@udea.edu.co ]</a>\n",
        "</div>\n",
        "\n",
        "<br>\n",
        "\n",
        "*Material de Apoyo para el Bootcamp de Talento Tech - Region 2*\n",
        "\n",
        "---"
      ],
      "metadata": {
        "id": "wGe6EJtd-mVh"
      }
    },
    {
      "cell_type": "markdown",
      "source": [
        "<font size=\"6\"><strong><center>RETO 1. REGISTRO Y ORGANIZACIÓN DE INFORMACIÓN PERSONAL </center></strong></font>\n",
        "\n",
        "<font size=\"5\"> <strong>Contexto:</strong>\n",
        "\n",
        "<font size = \"5\">En un entorno organizacional, es común gestionar datos básicos de personas como nombres, edades y ciudades de residencia. Estos datos pueden ser esenciales para realizar análisis simples, como identificar patrones demográficos, planificar eventos regionales o crear listas organizadas para comunicación.\n",
        "\n",
        "<font size = \"5\">En este caso, se tiene un pequeño conjunto de datos con información personal que debe ser manipulado y organizado para futuras aplicaciones. Aunque este ejercicio es introductorio, establece las bases para trabajar con datos más complejos en escenarios reales.\n",
        "\n",
        "<font size=\"5\"> <strong>Objetivo:</strong>\n",
        "\n",
        "<font size=\"5\">A partir de la información proporcionada (nombres, edades y ciudades de residencia), el objetivo es organizar y explorar los datos para responder preguntas clave, como:\n",
        "\n",
        "<ul><font size=\"5\">\n",
        "<li> <font size=\"5\">¿Cómo está distribuida la población por ciudad?</li>\n",
        "<li> <font size=\"5\">¿Qué herramientas básicas se pueden utilizar para filtrar y organizar datos personales?</li>\n",
        "<li> <font size=\"5\">¿Cómo preparar los datos para análisis más detallados?</li>\n",
        "</ul>\n",
        "\n",
        "<font size=\"5\">Tareas a realizar:\n",
        "\n",
        "<ul><font size=\"5\">\n",
        "<li> <font size=\"5\">Crear un DataFrame con los datos personales a partir de un diccionario.\n",
        "<li> <font size=\"5\">Explorar y mostrar columnas específicas, como nombres o combinaciones de nombre y edad.\n",
        "<li> <font size=\"5\">Ordenar los datos por ciudad para facilitar la consulta y organización.\n",
        "</ul>"
      ],
      "metadata": {
        "id": "_0uz2T16Bu5R"
      }
    },
    {
      "cell_type": "code",
      "source": [
        "# Importar las librerías\n",
        "\n",
        "import pandas as pd\n",
        "import matplotlib.pyplot as plt"
      ],
      "metadata": {
        "id": "uq6MYGv1WJnq"
      },
      "execution_count": null,
      "outputs": []
    },
    {
      "cell_type": "code",
      "source": [
        "# Crear un diccionario llamado \"data\" que contiene información básica:\n",
        "# - \"Nombre\": Lista con los nombres de las personas.\n",
        "# - \"Edad\": Lista con las edades correspondientes.\n",
        "# - \"Ciudad\": Lista con las ciudades de residencia de cada persona.\n",
        "data = {\n",
        "    \"Nombre\": [\"Maria\", \"Juan\", \"Laura\", \"Pedro\"],\n",
        "    \"Edad\": [30, 35, 25, 45],\n",
        "    \"Ciudad\": [\"Bogotá\", \"Medellín\", \"Cali\", \"Barranquilla\"]\n",
        "}"
      ],
      "metadata": {
        "id": "qhDrmydcVmnQ"
      },
      "execution_count": null,
      "outputs": []
    },
    {
      "cell_type": "code",
      "source": [
        "# Crear un DataFrame llamado \"df\" a partir del diccionario \"data\".\n",
        "# El DataFrame organiza los datos en formato tabular,\n",
        "# con columnas para \"Nombre\", \"Edad\" y \"Ciudad\".\n",
        "df = pd.DataFrame(data)\n",
        "\n",
        "# Mostrar el contenido del diccionario original para comparación.\n",
        "print(data)\n",
        "\n",
        "# Mostrar el DataFrame resultante para verificar la conversión de los datos.\n",
        "print('\\n')\n",
        "df\n"
      ],
      "metadata": {
        "id": "tOQxTBNcWFxB"
      },
      "execution_count": null,
      "outputs": []
    },
    {
      "cell_type": "code",
      "source": [
        "# Mostrar la columna 'Nombre'\n",
        "df['Nombre']"
      ],
      "metadata": {
        "id": "0xAt4dELYNCi"
      },
      "execution_count": null,
      "outputs": []
    },
    {
      "cell_type": "code",
      "source": [
        "# Mostrar las Columnas 'Nombre' y 'Edad'\n",
        "df[['Nombre','Edad']]"
      ],
      "metadata": {
        "id": "iZPjSUpuZ4hV"
      },
      "execution_count": null,
      "outputs": []
    },
    {
      "cell_type": "code",
      "source": [
        "# Crear un nuevo DataFrame llamado \"df_nom_ciudad\" que contiene solo\n",
        "# las columnas \"Nombre\" y \"Ciudad\", esto permite trabajar específicamente\n",
        "# con estos datos, excluyendo otras columnas innecesarias.\n",
        "df_nom_ciudad = df[['Nombre', 'Ciudad']]\n",
        "df_nom_ciudad"
      ],
      "metadata": {
        "id": "gfZGDBTtbSoH"
      },
      "execution_count": null,
      "outputs": []
    },
    {
      "cell_type": "code",
      "source": [
        "# Ordenar el DataFrame 'df_nom_ciudad' alfabéticamente según la columna 'Ciudad'\n",
        "# Esto organiza los datos por ubicación geográfica, facilitando su\n",
        "# análisis/presentación.\n",
        "df_nom_ciudad.sort_values('Ciudad')"
      ],
      "metadata": {
        "id": "CsACgV8dcxDq"
      },
      "execution_count": null,
      "outputs": []
    },
    {
      "cell_type": "code",
      "source": [
        "df_ordenado = df_nom_ciudad.sort_values('Ciudad')\n",
        "df_ordenado"
      ],
      "metadata": {
        "id": "NHbFPB3jFxzb"
      },
      "execution_count": null,
      "outputs": []
    }
  ]
}